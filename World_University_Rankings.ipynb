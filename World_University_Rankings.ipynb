{
 "cells": [
  {
   "cell_type": "markdown",
   "id": "ea2eb66e",
   "metadata": {},
   "source": [
    "# World University Rankings 2025\n",
    "\n",
    "**Authors:**  \n",
    "Nguyen Ngo, Josh Ilko  \n",
    "Penn State University  \n",
    "DS 220 – Spring 2025  \n",
    "May 5, 2025\n",
    "\n",
    "In this data analysis, we will answer exploratory questions about approximately 1,500 universities ranked by Quacquarelli Symonds (QS). The dataset includes numerous attributes, including a school's name, location, region, 2024 and 2025 rankings, size, focus, status, and numerous other miscellaneous rankings, as well as an overall score.\n",
    "\n",
    "## Data Analysis Questions\n",
    "\n",
    "1. How many of the top 100 universities are in each country?\n",
    "2. What is the average overall score of the top 600 universities in each region?\n",
    "3. Which universities that were ranked in 2024 have increased in rank in 2025, and by how much?\n",
    "4. How do sustainability scores between public and private universities compare?\n",
    "5. Which universities have a perfect academic reputation score?\n",
    "6. How many unversities of each size are there?\n",
    "7. Which unversities have the most cited research?\n",
    "8. Which unversities have the highest international student ratio?\n",
    "\n",
    "## Imports"
   ]
  },
  {
   "cell_type": "code",
   "execution_count": 1,
   "id": "73206793",
   "metadata": {},
   "outputs": [],
   "source": [
    "import pandas as pd"
   ]
  },
  {
   "cell_type": "markdown",
   "id": "2c7416c5",
   "metadata": {},
   "source": [
    "## Load the data"
   ]
  },
  {
   "cell_type": "code",
   "execution_count": 2,
   "id": "c8425e8c",
   "metadata": {},
   "outputs": [],
   "source": [
    "df = pd.read_csv(\"QS World University Rankings 2025.csv\", encoding=\"latin1\")"
   ]
  },
  {
   "cell_type": "markdown",
   "id": "c9a84b8b",
   "metadata": {},
   "source": [
    "## Inspect and Clean the Data"
   ]
  },
  {
   "cell_type": "markdown",
   "id": "d744b823",
   "metadata": {},
   "source": [
    "### Check For Null Values\n",
    "\n",
    "The first step in our data cleaning is to determine which columns have null values, how many null values they have, and how to deal with these columns."
   ]
  },
  {
   "cell_type": "code",
   "execution_count": 3,
   "id": "03887e5e",
   "metadata": {},
   "outputs": [
    {
     "data": {
      "text/plain": [
       "Overall_Score                           902\n",
       "International_Faculty_Rank              100\n",
       "International_Faculty_Score             100\n",
       "International_Students_Score             58\n",
       "International_Students_Rank              58\n",
       "STATUS                                   37\n",
       "RANK_2024                                21\n",
       "Sustainability_Score                     19\n",
       "Sustainability_Rank                      19\n",
       "International_Research_Network_Score      1\n",
       "International_Research_Network_Rank       1\n",
       "Institution_Name                          0\n",
       "Employer_Reputation_Score                 0\n",
       "Academic_Reputation_Rank                  0\n",
       "Academic_Reputation_Score                 0\n",
       "RES.                                      0\n",
       "SIZE                                      0\n",
       "FOCUS                                     0\n",
       "Region                                    0\n",
       "Location                                  0\n",
       "RANK_2025                                 0\n",
       "Citations_per_Faculty_Rank                0\n",
       "Faculty_Student_Rank                      0\n",
       "Citations_per_Faculty_Score               0\n",
       "Employer_Reputation_Rank                  0\n",
       "Faculty_Student_Score                     0\n",
       "Employment_Outcomes_Score                 0\n",
       "Employment_Outcomes_Rank                  0\n",
       "dtype: int64"
      ]
     },
     "execution_count": 3,
     "metadata": {},
     "output_type": "execute_result"
    }
   ],
   "source": [
    "df.isnull().sum().sort_values(ascending=False)"
   ]
  },
  {
   "cell_type": "markdown",
   "id": "37d35b8d",
   "metadata": {},
   "source": [
    "We will use two different methods to deal with columns with null values. For the \"Overall_Score\" column, we will only use this attribute to analyze the top 600 universities, as those are the schools that were given an overall score by QS. For all other columns, we will exclude rows with null values only for any queries involving the attribute in question. This will better maintain the integrity of the data than filling null values with the median or mean of the column, as carelessly filling values with summary statistics could misrepresent the outputs of our queries. Additionally, there are relatively few rows with null values for any given attribute in the grand scheme of the dataset, so the results of our queries will remain reliable."
   ]
  },
  {
   "cell_type": "markdown",
   "id": "5b46cc6a",
   "metadata": {},
   "source": [
    "### Clean the Data"
   ]
  },
  {
   "cell_type": "code",
   "execution_count": 4,
   "id": "4fc1c719",
   "metadata": {},
   "outputs": [],
   "source": [
    "# Clean column names\n",
    "df.columns = df.columns.str.strip().str.lower()\n",
    "\n",
    "# Clean and convert the rank columns\n",
    "df[\"rank_2025\"] = df[\"rank_2025\"].astype(str).str.replace(\"=\", \"\").str.extract(r\"(\\d+)\").astype(\"Int64\")\n",
    "df[\"rank_2024\"] = df[\"rank_2024\"].astype(str).str.replace(\"=\", \"\").str.extract(r\"(\\d+)\").astype(\"Int64\")\n",
    "\n",
    "# Clean and convert the \"sustainability_score\" column\n",
    "df[\"sustainability_score\"] = pd.to_numeric(\n",
    "    df[\"sustainability_score\"]\n",
    "    .astype(str)\n",
    "    .str.replace(\"=\", \"\", regex=False),\n",
    "    errors=\"coerce\"\n",
    ")\n",
    "\n",
    "# Convert the \"overall_score\" column to numeric\n",
    "df[\"overall_score\"] = pd.to_numeric(df[\"overall_score\"], errors=\"coerce\")\n",
    "\n",
    "# Clean and convert \"rank\" columns with + signs\n",
    "rank_cols = [col for col in df.columns if \"rank\" in col.lower()]\n",
    "\n",
    "for col in rank_cols:\n",
    "    df[col] = pd.to_numeric(\n",
    "        df[col].astype(str).str.replace(\"+\", \"\", regex=False), \n",
    "        errors=\"coerce\"\n",
    "    )\n",
    "\n",
    "# Rename and fill values in the \"status\" column\n",
    "df[\"status\"] = df[\"status\"].replace({\n",
    "    \"A\": \"Public\",\n",
    "    \"B\": \"Private\",\n",
    "    \"C\": \"Unknown\"\n",
    "}).fillna(\"Unknown\")\n"
   ]
  },
  {
   "cell_type": "markdown",
   "id": "16142ffa",
   "metadata": {},
   "source": [
    "To clean the data, we need to do a few things. First, we strip the column names of any white space and set them to lowercase to ensure easy access in future code. Then, we make sure that each value in the rank_2024 and rank_2025 columns is a single float value instead of a range like \"601-610\". After that, we clean the sustainability_score and any columns with \"rank\" in the name, removing any \"+\" or \"=\" signs in the cell values and ensuring the values are numeric. Finally, we improve the clarity of the status column, replacing values of \"A\", \"B\", and \"C\" with \"Public\", \"Private\", and \"Unkown\", respectively, as well as filling null values with \"Unknown\"."
   ]
  },
  {
   "cell_type": "markdown",
   "id": "c2166839",
   "metadata": {},
   "source": [
    "## Data Analysis"
   ]
  },
  {
   "cell_type": "markdown",
   "id": "77ba4cb3",
   "metadata": {},
   "source": [
    "### 1. How many of the top 100 universities are in each country?"
   ]
  },
  {
   "cell_type": "code",
   "execution_count": 5,
   "id": "a9c824a9",
   "metadata": {},
   "outputs": [
    {
     "name": "stdout",
     "output_type": "stream",
     "text": [
      "location\n",
      "United States       25\n",
      "United Kingdom      15\n",
      "Australia            9\n",
      "Hong Kong SAR        5\n",
      "China (Mainland)     5\n",
      "South Korea          5\n",
      "Germany              5\n",
      "France               4\n",
      "Canada               4\n",
      "Japan                4\n",
      "Singapore            2\n",
      "Switzerland          2\n",
      "Netherlands          2\n",
      "Sweden               2\n",
      "Malaysia             1\n",
      "New Zealand          1\n",
      "Belgium              1\n",
      "Taiwan               1\n",
      "Argentina            1\n",
      "Ireland              1\n",
      "Brazil               1\n",
      "Chile                1\n",
      "Russia               1\n",
      "Mexico               1\n",
      "Denmark              1\n",
      "Name: count, dtype: int64\n"
     ]
    }
   ],
   "source": [
    "# Select only universities ranked within the top 100\n",
    "top_100 = df[df[\"rank_2025\"] <= 100]\n",
    "\n",
    "# Count the number of top 100 universities in each country\n",
    "top_100_by_country = top_100[\"location\"].value_counts()\n",
    "\n",
    "# Print the countries and their counts\n",
    "print(top_100_by_country)"
   ]
  },
  {
   "cell_type": "markdown",
   "id": "3a00300e",
   "metadata": {},
   "source": []
  },
  {
   "cell_type": "markdown",
   "id": "0ceb27f4",
   "metadata": {},
   "source": [
    "### 2. What is the average overall score of the top 600 universities in each region?"
   ]
  },
  {
   "cell_type": "code",
   "execution_count": 6,
   "id": "fa189bc8",
   "metadata": {},
   "outputs": [
    {
     "name": "stdout",
     "output_type": "stream",
     "text": [
      "region\n",
      "Oceania     47.323077\n",
      "Americas    47.178862\n",
      "Europe      41.023887\n",
      "Asia        38.607143\n",
      "Africa      32.911111\n",
      "Name: overall_score, dtype: float64\n"
     ]
    }
   ],
   "source": [
    "# Select only universities ranked within the top 600\n",
    "top_600 = df[df[\"rank_2025\"] <= 600]\n",
    "\n",
    "# Take the mean of the overall scores of the universities in each region\n",
    "avg_score_by_region = top_600.groupby(\"region\")[\"overall_score\"].mean()\n",
    "\n",
    "# Sort the countries by mean descending\n",
    "avg_score_by_region = avg_score_by_region.sort_values(ascending=False)\n",
    "\n",
    "# Print the regions and scores in descending order\n",
    "print(avg_score_by_region)"
   ]
  },
  {
   "cell_type": "markdown",
   "id": "aaf894da",
   "metadata": {},
   "source": []
  },
  {
   "cell_type": "markdown",
   "id": "e86badfe",
   "metadata": {},
   "source": [
    "### 3. Which universities that were ranked in 2024 have increased in rank in 2025, and by how much?"
   ]
  },
  {
   "cell_type": "code",
   "execution_count": 7,
   "id": "b3b04082",
   "metadata": {},
   "outputs": [
    {
     "name": "stdout",
     "output_type": "stream",
     "text": [
      "                                      institution_name  rank_2024  rank_2025  \\\n",
      "1                              Imperial College London          6          2   \n",
      "9         California Institute of Technology (Caltech)         15         10   \n",
      "10                          University of Pennsylvania         12         11   \n",
      "12                         The University of Melbourne         14         13   \n",
      "13                                   Peking University         17         14   \n",
      "...                                                ...        ...        ...   \n",
      "1323                           Universidad de Tarapaca       1401       1201   \n",
      "1335  Universidad Nacional Autónoma de Honduras (UNAH)       1401       1201   \n",
      "1341                      Universidad Nacional del Sur       1401       1201   \n",
      "1351       Universidade Federal do Rio Grande Do Norte       1401       1201   \n",
      "1368                          University of Kragujevac       1401       1201   \n",
      "\n",
      "      rank_change  \n",
      "1               4  \n",
      "9               5  \n",
      "10              1  \n",
      "12              1  \n",
      "13              3  \n",
      "...           ...  \n",
      "1323          200  \n",
      "1335          200  \n",
      "1341          200  \n",
      "1351          200  \n",
      "1368          200  \n",
      "\n",
      "[461 rows x 4 columns]\n"
     ]
    }
   ],
   "source": [
    "# Filter out rows with missing 2024 rank data\n",
    "ranked_both_years = df[df[\"rank_2024\"].notna()]\n",
    "\n",
    "# Create a new data frame including only rows where the rank has improved between years\n",
    "improved = ranked_both_years[ranked_both_years[\"rank_2025\"] < ranked_both_years[\"rank_2024\"]].copy()\n",
    "\n",
    "# Ensure rank 2024 is type int\n",
    "improved[\"rank_2024\"] = improved[\"rank_2024\"].astype(\"Int64\")\n",
    "\n",
    "# Create a new row indicating how much a university's rank improved\n",
    "improved[\"rank_change\"] = improved[\"rank_2024\"] - improved[\"rank_2025\"]\n",
    "\n",
    "# Print only relevant attributes of the new data frame\n",
    "print(improved[[\"institution_name\", \"rank_2024\", \"rank_2025\", \"rank_change\"]])"
   ]
  },
  {
   "cell_type": "markdown",
   "id": "72f0f650",
   "metadata": {},
   "source": []
  },
  {
   "cell_type": "markdown",
   "id": "e05a4531",
   "metadata": {},
   "source": [
    "### 4. How do sustainability scores between public and private universities compare?"
   ]
  },
  {
   "cell_type": "code",
   "execution_count": 8,
   "id": "c1559070",
   "metadata": {},
   "outputs": [
    {
     "name": "stdout",
     "output_type": "stream",
     "text": [
      "              mean  median\n",
      "status                    \n",
      "Public   27.031665    9.50\n",
      "Private  18.321429    2.95\n",
      "Unknown   4.422989    1.20\n"
     ]
    }
   ],
   "source": [
    "# Filter out rows with missing sustainability scores\n",
    "sustainability_by_type = df[df[\"sustainability_score\"].notna()]\n",
    "\n",
    "# Group by \"status\" and calculate both mean and median\n",
    "sustainability_stats = sustainability_by_type.groupby(\"status\")[\"sustainability_score\"].agg([\"mean\", \"median\"])\n",
    "\n",
    "# Sort the university types by mean descending\n",
    "sustainability_stats = sustainability_stats.sort_values(by=\"mean\", ascending=False)\n",
    "\n",
    "# Print the mean and median by unversity type\n",
    "print(sustainability_stats)"
   ]
  },
  {
   "cell_type": "markdown",
   "id": "7f37594c",
   "metadata": {},
   "source": []
  },
  {
   "cell_type": "markdown",
   "id": "e7f26f07",
   "metadata": {},
   "source": [
    "### 5. Which universities have a perfect academic reputation score?"
   ]
  },
  {
   "cell_type": "code",
   "execution_count": 9,
   "id": "7d77c03b",
   "metadata": {},
   "outputs": [
    {
     "name": "stdout",
     "output_type": "stream",
     "text": [
      "    rank_2025                              institution_name  \\\n",
      "0           1  Massachusetts Institute of Technology (MIT)    \n",
      "2           3                          University of Oxford   \n",
      "3           4                            Harvard University   \n",
      "4           5                       University of Cambridge   \n",
      "5           6                           Stanford University   \n",
      "11         12      University of California, Berkeley (UCB)   \n",
      "32         32                       The University of Tokyo   \n",
      "41         42  University of California, Los Angeles (UCLA)   \n",
      "\n",
      "    academic_reputation_score  \n",
      "0                       100.0  \n",
      "2                       100.0  \n",
      "3                       100.0  \n",
      "4                       100.0  \n",
      "5                       100.0  \n",
      "11                      100.0  \n",
      "32                      100.0  \n",
      "41                      100.0  \n"
     ]
    }
   ],
   "source": [
    "# Select only rows with an academic reputation score of 100 (a perfect score)\n",
    "perfect_reputation = df[df[\"academic_reputation_score\"] == 100]\n",
    "\n",
    "# Print the name and score of each university with a perfect score\n",
    "print(perfect_reputation[[\"rank_2025\", \"institution_name\", \"academic_reputation_score\"]])"
   ]
  },
  {
   "cell_type": "markdown",
   "id": "5fd7acb7",
   "metadata": {},
   "source": []
  },
  {
   "cell_type": "markdown",
   "id": "bd1f503e",
   "metadata": {},
   "source": [
    "### 6. How many unversities of each size are there?"
   ]
  },
  {
   "cell_type": "code",
   "execution_count": 10,
   "id": "b308a735",
   "metadata": {},
   "outputs": [
    {
     "name": "stdout",
     "output_type": "stream",
     "text": [
      "size\n",
      "XL    352\n",
      "L     691\n",
      "M     372\n",
      "S      88\n",
      "Name: count, dtype: int64\n"
     ]
    }
   ],
   "source": [
    "# Get the counts of each size university\n",
    "size_counts = df[\"size\"].value_counts()\n",
    "\n",
    "# Reorder the data frame in size order descending\n",
    "ordered_sizes = size_counts.reindex([\"XL\", \"L\", \"M\", \"S\"])\n",
    "\n",
    "# Output the size counts\n",
    "print(ordered_sizes)"
   ]
  },
  {
   "cell_type": "markdown",
   "id": "e156a517",
   "metadata": {},
   "source": []
  },
  {
   "cell_type": "markdown",
   "id": "2c70e325",
   "metadata": {},
   "source": [
    "### 7. Which unversities have the most cited research?"
   ]
  },
  {
   "cell_type": "code",
   "execution_count": 11,
   "id": "8d0398b0",
   "metadata": {},
   "outputs": [
    {
     "name": "stdout",
     "output_type": "stream",
     "text": [
      "     rank_2025                                   institution_name  \\\n",
      "0            1       Massachusetts Institute of Technology (MIT)    \n",
      "9           10       California Institute of Technology (Caltech)   \n",
      "3            4                                 Harvard University   \n",
      "61          62                       City University of Hong Kong   \n",
      "358        359  Gwangju Institute of Science and Technology (G...   \n",
      "382        383                                    Anna University   \n",
      "402        403                 Amirkabir University of Technology   \n",
      "21          22                               Princeton University   \n",
      "182        183                       Hamad Bin Khalifa University   \n",
      "325        326  Daegu Gyeongbuk Institute of Science and Techn...   \n",
      "\n",
      "     citations_per_faculty_score  \n",
      "0                          100.0  \n",
      "9                          100.0  \n",
      "3                          100.0  \n",
      "61                         100.0  \n",
      "358                        100.0  \n",
      "382                        100.0  \n",
      "402                        100.0  \n",
      "21                         100.0  \n",
      "182                        100.0  \n",
      "325                         99.9  \n"
     ]
    }
   ],
   "source": [
    "# Sort the data frame by highest citation per faculty score\n",
    "top_citations = df.sort_values(by=\"citations_per_faculty_score\", ascending=False)\n",
    "\n",
    "# Print the rank, name, and score of the first top 10 universities by citation per faculty score\n",
    "print(top_citations[[\"rank_2025\", \"institution_name\", \"citations_per_faculty_score\"]].head(10))"
   ]
  },
  {
   "cell_type": "markdown",
   "id": "e553d2c9",
   "metadata": {},
   "source": []
  },
  {
   "cell_type": "markdown",
   "id": "a3e9e317",
   "metadata": {},
   "source": [
    "### 8. Which unversities have the highest international student ratio?"
   ]
  },
  {
   "cell_type": "code",
   "execution_count": 12,
   "id": "110ffee0",
   "metadata": {},
   "outputs": [
    {
     "name": "stdout",
     "output_type": "stream",
     "text": [
      "      rank_2025                                   institution_name  \\\n",
      "25           26                                               EPFL   \n",
      "17           18                           The University of Sydney   \n",
      "1056       1001                     London Metropolitan University   \n",
      "463         464         Macau University of Science and Technology   \n",
      "51           50  The London School of Economics and Political S...   \n",
      "802         801                        Al-Ahliyya Amman University   \n",
      "748         741                          University of Westminster   \n",
      "61           62                       City University of Hong Kong   \n",
      "890         851                        University of Hertfordshire   \n",
      "40           40                       The University of Queensland   \n",
      "\n",
      "      international_students_score  \n",
      "25                           100.0  \n",
      "17                           100.0  \n",
      "1056                         100.0  \n",
      "463                          100.0  \n",
      "51                           100.0  \n",
      "802                          100.0  \n",
      "748                          100.0  \n",
      "61                           100.0  \n",
      "890                          100.0  \n",
      "40                           100.0  \n"
     ]
    }
   ],
   "source": [
    "# Sort the data frame by highest international student ratio\n",
    "top_international_students = df.sort_values(by=\"international_students_score\", ascending=False)\n",
    "\n",
    "# Print the rank, name, and score of the first top 10 universities by international student ratio\n",
    "print(top_international_students[[\"rank_2025\", \"institution_name\", \"international_students_score\"]].head(10))"
   ]
  },
  {
   "cell_type": "markdown",
   "id": "522c7c12",
   "metadata": {},
   "source": []
  },
  {
   "cell_type": "markdown",
   "id": "5fc2aa8b",
   "metadata": {},
   "source": [
    "## Concluding Thoughts"
   ]
  },
  {
   "cell_type": "markdown",
   "id": "079d02c5",
   "metadata": {},
   "source": []
  }
 ],
 "metadata": {
  "kernelspec": {
   "display_name": "Python 3",
   "language": "python",
   "name": "python3"
  },
  "language_info": {
   "codemirror_mode": {
    "name": "ipython",
    "version": 3
   },
   "file_extension": ".py",
   "mimetype": "text/x-python",
   "name": "python",
   "nbconvert_exporter": "python",
   "pygments_lexer": "ipython3",
   "version": "3.12.1"
  }
 },
 "nbformat": 4,
 "nbformat_minor": 5
}
